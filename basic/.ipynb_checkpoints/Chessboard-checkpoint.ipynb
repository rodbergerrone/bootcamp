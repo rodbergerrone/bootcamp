{
 "cells": [
  {
   "cell_type": "code",
   "execution_count": 1,
   "metadata": {},
   "outputs": [
    {
     "name": "stdin",
     "output_type": "stream",
     "text": [
      "Enter dimension of board:  5\n"
     ]
    },
    {
     "name": "stdout",
     "output_type": "stream",
     "text": [
      "1 0 0 0 0 \n",
      "0 1 0 0 0 \n",
      "0 0 1 0 0 \n",
      "0 0 0 1 0 \n",
      "0 0 0 0 1 \n"
     ]
    }
   ],
   "source": [
    "dimension = int(input('Enter dimension of board: '))\n",
    "\n",
    "if dimension < 2:    \n",
    "    print('Invalid input')    \n",
    "else:\n",
    "    for r in range(dimension):\n",
    "        for c in range(dimension):\n",
    "            print(int(c == r), end=' ')\n",
    "        print()"
   ]
  },
  {
   "cell_type": "code",
   "execution_count": 11,
   "metadata": {},
   "outputs": [
    {
     "name": "stdin",
     "output_type": "stream",
     "text": [
      "Enter dimension of board:  5\n"
     ]
    },
    {
     "name": "stdout",
     "output_type": "stream",
     "text": [
      "1 0 1 0 1 \n",
      "0 1 0 1 0 \n",
      "1 0 1 0 1 \n",
      "0 1 0 1 0 \n",
      "1 0 1 0 1 \n"
     ]
    }
   ],
   "source": [
    "dimension = int(input('Enter dimension of board: '))\n",
    "\n",
    "if dimension < 2:    \n",
    "    print('Invalid input')    \n",
    "else:\n",
    "    for r in range(dimension):\n",
    "        for c in range(dimension):\n",
    "            print(int((c + r + 1) % 2), end=' ')\n",
    "        print()"
   ]
  },
  {
   "cell_type": "code",
   "execution_count": 3,
   "metadata": {},
   "outputs": [
    {
     "name": "stdout",
     "output_type": "stream",
     "text": [
      "0:\n",
      "\n",
      "\n",
      "1:\n",
      "1\n",
      "\n",
      "2:\n",
      "1 0\n",
      "0 1\n",
      "\n",
      "3:\n",
      "1 0 1\n",
      "0 1 0\n",
      "1 0 1\n",
      "\n",
      "4:\n",
      "1 0 1 0\n",
      "0 1 0 1\n",
      "1 0 1 0\n",
      "0 1 0 1\n",
      "\n",
      "5:\n",
      "1 0 1 0 1\n",
      "0 1 0 1 0\n",
      "1 0 1 0 1\n",
      "0 1 0 1 0\n",
      "1 0 1 0 1\n",
      "\n",
      "6:\n",
      "1 0 1 0 1 0\n",
      "0 1 0 1 0 1\n",
      "1 0 1 0 1 0\n",
      "0 1 0 1 0 1\n",
      "1 0 1 0 1 0\n",
      "0 1 0 1 0 1\n",
      "\n",
      "7:\n",
      "1 0 1 0 1 0 1\n",
      "0 1 0 1 0 1 0\n",
      "1 0 1 0 1 0 1\n",
      "0 1 0 1 0 1 0\n",
      "1 0 1 0 1 0 1\n",
      "0 1 0 1 0 1 0\n",
      "1 0 1 0 1 0 1\n",
      "\n",
      "8:\n",
      "1 0 1 0 1 0 1 0\n",
      "0 1 0 1 0 1 0 1\n",
      "1 0 1 0 1 0 1 0\n",
      "0 1 0 1 0 1 0 1\n",
      "1 0 1 0 1 0 1 0\n",
      "0 1 0 1 0 1 0 1\n",
      "1 0 1 0 1 0 1 0\n",
      "0 1 0 1 0 1 0 1\n",
      "\n"
     ]
    }
   ],
   "source": [
    "def make_board(side):\n",
    "    r = range(side)\n",
    "    rows = [' '.join(['01'[(i + p) % 2] for i in r]) for p in (1, 0)]\n",
    "    return [rows[i % 2] for i in r]\n",
    "\n",
    "# Test\n",
    "for i in range(0, 9):\n",
    "    board = make_board(i)\n",
    "    print('{0}:\\n{1}\\n'.format(i, '\\n'.join(board)))"
   ]
  },
  {
   "cell_type": "code",
   "execution_count": 6,
   "metadata": {},
   "outputs": [
    {
     "name": "stdin",
     "output_type": "stream",
     "text": [
      "Enter dimension of board:  5\n"
     ]
    },
    {
     "name": "stdout",
     "output_type": "stream",
     "text": [
      "1 0 1 0 1  \n",
      "0 1 0 1 0  \n",
      "1 0 1 0 1  \n",
      "0 1 0 1 0  \n",
      "1 0 1 0 1  \n"
     ]
    }
   ],
   "source": [
    "def print_board():\n",
    "    n=int(input('Enter dimension of board: '))\n",
    "    row=[[(x+1)%2 for x in range(n)], [x%2 for x in range(n)]] \n",
    "    board=[row[x%2] for x in range(n)]  \n",
    "    for r in board:\n",
    "        for c in r: print(c, end=' ')\n",
    "        print(' ')\n",
    "        \n",
    "print_board()"
   ]
  },
  {
   "cell_type": "code",
   "execution_count": 8,
   "metadata": {},
   "outputs": [
    {
     "name": "stdout",
     "output_type": "stream",
     "text": [
      "Execution took 0.278845 seconds!\n"
     ]
    },
    {
     "ename": "NameError",
     "evalue": "name '__file__' is not defined",
     "output_type": "error",
     "traceback": [
      "\u001b[1;31m---------------------------------------------------------------------------\u001b[0m",
      "\u001b[1;31mNameError\u001b[0m                                 Traceback (most recent call last)",
      "\u001b[1;32m<ipython-input-8-9e5ccf8e563a>\u001b[0m in \u001b[0;36m<module>\u001b[1;34m\u001b[0m\n\u001b[0;32m     26\u001b[0m     \u001b[1;32mreturn\u001b[0m \u001b[0moutput\u001b[0m\u001b[1;33m[\u001b[0m\u001b[1;33m:\u001b[0m\u001b[0mdim_x\u001b[0m\u001b[1;33m,\u001b[0m \u001b[1;33m:\u001b[0m\u001b[0mdim_y\u001b[0m\u001b[1;33m]\u001b[0m\u001b[1;33m\u001b[0m\u001b[1;33m\u001b[0m\u001b[0m\n\u001b[0;32m     27\u001b[0m \u001b[1;33m\u001b[0m\u001b[0m\n\u001b[1;32m---> 28\u001b[1;33m \u001b[0mImage\u001b[0m\u001b[1;33m.\u001b[0m\u001b[0mfromarray\u001b[0m\u001b[1;33m(\u001b[0m\u001b[0mcreate_chessboard\u001b[0m\u001b[1;33m(\u001b[0m\u001b[1;36m5000\u001b[0m\u001b[1;33m,\u001b[0m \u001b[1;36m5000\u001b[0m\u001b[1;33m,\u001b[0m \u001b[1;36m3\u001b[0m\u001b[1;33m)\u001b[0m\u001b[1;33m)\u001b[0m\u001b[1;33m.\u001b[0m\u001b[0msave\u001b[0m\u001b[1;33m(\u001b[0m\u001b[0mos\u001b[0m\u001b[1;33m.\u001b[0m\u001b[0mpath\u001b[0m\u001b[1;33m.\u001b[0m\u001b[0mjoin\u001b[0m\u001b[1;33m(\u001b[0m\u001b[0mos\u001b[0m\u001b[1;33m.\u001b[0m\u001b[0mpath\u001b[0m\u001b[1;33m.\u001b[0m\u001b[0mdirname\u001b[0m\u001b[1;33m(\u001b[0m\u001b[0mos\u001b[0m\u001b[1;33m.\u001b[0m\u001b[0mpath\u001b[0m\u001b[1;33m.\u001b[0m\u001b[0mrealpath\u001b[0m\u001b[1;33m(\u001b[0m\u001b[0m__file__\u001b[0m\u001b[1;33m)\u001b[0m\u001b[1;33m)\u001b[0m\u001b[1;33m,\u001b[0m \u001b[1;34m'out.tif'\u001b[0m\u001b[1;33m)\u001b[0m\u001b[1;33m)\u001b[0m\u001b[1;33m\u001b[0m\u001b[1;33m\u001b[0m\u001b[0m\n\u001b[0m",
      "\u001b[1;31mNameError\u001b[0m: name '__file__' is not defined"
     ]
    }
   ],
   "source": [
    "import numpy as np\n",
    "import matplotlib.pyplot as plt\n",
    "import time\n",
    "from PIL import Image\n",
    "import os\n",
    "\n",
    "def divmod_max_into(div_mod):\n",
    "    if div_mod[1] > 0:\n",
    "        return div_mod[0] + 1\n",
    "    else:\n",
    "        return div_mod[0]\n",
    "\n",
    "def create_chessboard(dim_x, dim_y, cube_size):\n",
    "    start = time.time()\n",
    "    light_grey = 230\n",
    "    dark_grey = 90\n",
    "    divmod_x_cube = divmod(dim_x, cube_size*2)\n",
    "    divmod_y_cube = divmod(dim_y, cube_size*2)\n",
    "    large_cube = np.full([cube_size*2, cube_size*2], False)\n",
    "    large_cube[:cube_size, :cube_size] = True\n",
    "    large_output = np.tile(large_cube, (divmod_max_into(divmod_x_cube), divmod_max_into(divmod_y_cube)))\n",
    "    large_output = np.transpose(large_output) + large_output == 2\n",
    "    output = np.full(large_output.shape, dark_grey, dtype=np.uint8)\n",
    "    output[large_output] = 230\n",
    "    print(\"Execution took {:.6f} seconds!\".format(time.time()-start))\n",
    "    return output[:dim_x, :dim_y]\n",
    "\n",
    "Image.fromarray(create_chessboard(5000, 5000, 3)).save(os.path.join(os.path.dirname(os.path.realpath(__file__)), 'out.tif'))"
   ]
  },
  {
   "cell_type": "code",
   "execution_count": 9,
   "metadata": {},
   "outputs": [
    {
     "name": "stdout",
     "output_type": "stream",
     "text": [
      "1 0 1 0 1 \n",
      "0 1 0 1 0 \n",
      "1 0 1 0 1 \n",
      "0 1 0 1 0 \n",
      "1 0 1 0 1 "
     ]
    }
   ],
   "source": [
    "def printBoard(dimensions):\n",
    "    for row in range(dimensions**2):\n",
    "        if row % dimensions == 0 and row != 0:\n",
    "            print()\n",
    "            print((row + 1) % 2, end=' ')\n",
    "        else:\n",
    "            print((row + 1) % 2, end=' ')\n",
    "            \n",
    "printBoard(5)"
   ]
  },
  {
   "cell_type": "code",
   "execution_count": 13,
   "metadata": {},
   "outputs": [
    {
     "name": "stdin",
     "output_type": "stream",
     "text": [
      "Enter dimension of board:  5\n"
     ]
    },
    {
     "name": "stdout",
     "output_type": "stream",
     "text": [
      "a c a c a \n",
      "c a c a c \n",
      "a c a c a \n",
      "c a c a c \n",
      "a c a c a \n"
     ]
    }
   ],
   "source": [
    "dimension = int(input('Enter dimension of board: '))\n",
    "\n",
    "if dimension < 2:    \n",
    "    print('Invalid input')    \n",
    "else:\n",
    "    for r in range(dimension):\n",
    "        for c in range(dimension):\n",
    "            if ((c + r + 1) % 2) == 0:\n",
    "                print(\"c\", end=' ')\n",
    "            else:\n",
    "                print(\"a\", end=' ')\n",
    "        print()"
   ]
  },
  {
   "cell_type": "code",
   "execution_count": null,
   "metadata": {},
   "outputs": [],
   "source": []
  }
 ],
 "metadata": {
  "kernelspec": {
   "display_name": "Python 3",
   "language": "python",
   "name": "python3"
  },
  "language_info": {
   "codemirror_mode": {
    "name": "ipython",
    "version": 3
   },
   "file_extension": ".py",
   "mimetype": "text/x-python",
   "name": "python",
   "nbconvert_exporter": "python",
   "pygments_lexer": "ipython3",
   "version": "3.7.9"
  }
 },
 "nbformat": 4,
 "nbformat_minor": 4
}
