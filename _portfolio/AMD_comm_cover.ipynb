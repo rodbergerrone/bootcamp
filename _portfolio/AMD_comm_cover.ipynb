{
 "cells": [
  {
   "cell_type": "markdown",
   "metadata": {},
   "source": [
    "Skrypt do obliczania pokrycia masztów łączności systemu OPL i wizualizacji"
   ]
  },
  {
   "cell_type": "code",
   "execution_count": 153,
   "metadata": {},
   "outputs": [],
   "source": [
    "# Załadowanie niezbędnych bibliotek Python3\n",
    "import numpy as np\n",
    "import matplotlib.pyplot as plt\n",
    "import folium\n",
    "%matplotlib inline"
   ]
  },
  {
   "cell_type": "markdown",
   "metadata": {},
   "source": [
    "Parametry systemu łączności:"
   ]
  },
  {
   "cell_type": "code",
   "execution_count": 215,
   "metadata": {},
   "outputs": [],
   "source": [
    "# Promień pokrycia masztu:\n",
    "a = 5\n",
    "# Dystans pomiędzy masztami:\n",
    "b = 10\n",
    "# Ilość masztów w systemie:\n",
    "c = 5"
   ]
  },
  {
   "cell_type": "code",
   "execution_count": 216,
   "metadata": {},
   "outputs": [],
   "source": [
    "# Obliczenia pokrycia przez system łączności\n",
    "\n",
    "def single_node(r):\n",
    "    return np.pi * r ** 2\n",
    "\n",
    "def two_nodes(d, R, r):\n",
    "    if d <= abs(R-r):\n",
    "        # Jeden okrąg jest całkowicie zamknięty w drugim.\n",
    "        return np.pi * min(R, r)**2\n",
    "    if d >= r + R:\n",
    "        # Oręgi w ogóle się nie pokrywają.\n",
    "        nodes = np.pi * r ** 2 + np.pi * R ** 2\n",
    "        return nodes\n",
    "\n",
    "    r2, R2, d2 = r**2, R**2, d**2\n",
    "    alpha = np.arccos((d2 + r2 - R2) / (2*d*r))\n",
    "    beta = np.arccos((d2 + R2 - r2) / (2*d*R))\n",
    "    A = (r2 * alpha + R2 * beta - 0.5 * (r2 * np.sin(2*alpha) + R2 * np.sin(2*beta)))\n",
    "    nodes = np.pi * r ** 2 + np.pi * R ** 2 - A\n",
    "    return nodes\n",
    "\n",
    "def multi_nodes_in2line(d, R, r, n):\n",
    "    if d <= abs(R-r):\n",
    "        # Jeden okrąg jest całkowicie zamknięty w drugim.\n",
    "        return np.pi * min(R, r)**2\n",
    "    if d >= r + R:\n",
    "        # Oręgi w ogóle się nie pokrywają.\n",
    "        nodes = (np.pi * r ** 2) * n\n",
    "        return nodes\n",
    "\n",
    "    r2, R2, d2 = r**2, R**2, d**2\n",
    "    alpha = np.arccos((d2 + r2 - R2) / (2*d*r))\n",
    "    beta = np.arccos((d2 + R2 - r2) / (2*d*R))\n",
    "    A = (r2 * alpha + R2 * beta - 0.5 * (r2 * np.sin(2*alpha) + R2 * np.sin(2*beta)))\n",
    "    nodes = ((np.pi * r ** 2) * n) - (A * c)\n",
    "    return nodes\n",
    "\n",
    "single = round(single_node(a), 2)\n",
    "\n",
    "if c<2:\n",
    "    total = single\n",
    "elif c==2:\n",
    "    total = round(two_nodes(b, a, a), 2)\n",
    "elif c>2:\n",
    "    total = round(multi_nodes_in2line(b, a, a, c), 2)"
   ]
  },
  {
   "cell_type": "markdown",
   "metadata": {},
   "source": [
    "Wizualizacja systemy łączności na mapie:"
   ]
  },
  {
   "cell_type": "code",
   "execution_count": 217,
   "metadata": {},
   "outputs": [
    {
     "name": "stdout",
     "output_type": "stream",
     "text": [
      "Powierzchnia M.St. Warszawy wynosi: 517.20 km2\n",
      "Pokrycie pojedyńczego masztu o zasięgu 5 km wynosi: 78.54 km2\n",
      "Pokrycie 5 masztów o zasiegu 5 km każdy, oddalonych od siebie o 10 km wynosi: 392.7 km2\n"
     ]
    },
    {
     "data": {
      "text/html": [
       "<div style=\"width:100%;\"><div style=\"position:relative;width:100%;height:0;padding-bottom:60%;\"><span style=\"color:#565656\">Make this Notebook Trusted to load map: File -> Trust Notebook</span><iframe src=\"about:blank\" style=\"position:absolute;width:100%;height:100%;left:0;top:0;border:none !important;\" data-html=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 onload=\"this.contentDocument.open();this.contentDocument.write(atob(this.getAttribute('data-html')));this.contentDocument.close();\" allowfullscreen webkitallowfullscreen mozallowfullscreen></iframe></div></div>"
      ],
      "text/plain": [
       "<folium.folium.Map at 0x27eee36ce08>"
      ]
     },
     "execution_count": 217,
     "metadata": {},
     "output_type": "execute_result"
    }
   ],
   "source": [
    "# Współrzędne na mapie dla M.St. Warszawy:\n",
    "Warsaw = folium.Map(location=[52.2297700,21.0117800], zoom_start=10, tiles='Stamen Terrain')\n",
    "\n",
    "# Dodawanie pokrycia masztów do mapy biorąc pod uwagę poniższe współczynniki konwersji:\n",
    "# Latitude: 1 deg = 110.574 km\n",
    "# Longitude: 1 deg = 111.320*cos(latitude) km = dla Warszawy 68.5 km, \n",
    "if c==1:\n",
    "    folium.Circle(location=[52.2297700,21.0117800], radius=a*1000, color='blue', fill=True, fill_color='blue').add_to(Warsaw)\n",
    "elif c==2:\n",
    "    folium.Circle(location=[52.325899, 21.000582], radius=a*1000, color='blue', fill=True, fill_color='blue').add_to(Warsaw)\n",
    "    latitude = 52.325899-(b/110.574)\n",
    "    folium.Circle(location=[latitude,21.000582], radius=a*1000, color='blue', fill=True, fill_color='blue').add_to(Warsaw)\n",
    "elif c>=3:\n",
    "    d = [c // 2 + c % 2, c // 2]\n",
    "    for i in range(d[0]):\n",
    "        longitude = 21.1958900-(b/68.5*i)\n",
    "        folium.Circle(location=[52.3395300,longitude], radius=a*1000, color='blue', fill=True, fill_color='blue').add_to(Warsaw)\n",
    "    for j in range(d[1]):\n",
    "        latitude = 52.3395300-(b/110.574)\n",
    "        longitude = 21.1958900-(b/68.5*j)\n",
    "        folium.Circle(location=[latitude,longitude], radius=a*1000, color='blue', fill=True, fill_color='blue').add_to(Warsaw) \n",
    "\n",
    "print(\"Powierzchnia M.St. Warszawy wynosi: 517.20 km2\")\n",
    "print(f\"Pokrycie pojedyńczego masztu o zasięgu {a} km wynosi: {single} km2\")\n",
    "if c>1:\n",
    "    print(f\"Pokrycie {c} masztów o zasiegu {a} km każdy, oddalonych od siebie o {b} km wynosi: {total} km2\")\n",
    "Warsaw"
   ]
  },
  {
   "cell_type": "markdown",
   "metadata": {},
   "source": [
    "Dodatkowe obliczenia:"
   ]
  },
  {
   "cell_type": "code",
   "execution_count": 195,
   "metadata": {},
   "outputs": [
    {
     "data": {
      "text/plain": [
       "[3, 3]"
      ]
     },
     "execution_count": 195,
     "metadata": {},
     "output_type": "execute_result"
    }
   ],
   "source": [
    "# Rozłożenie masztów:\n",
    "d = [c // 2 + c % 2, c //2]\n",
    "d"
   ]
  },
  {
   "cell_type": "code",
   "execution_count": 209,
   "metadata": {},
   "outputs": [
    {
     "data": {
      "text/plain": [
       "68.53543543325227"
      ]
     },
     "execution_count": 209,
     "metadata": {},
     "output_type": "execute_result"
    }
   ],
   "source": [
    "# Przeliczenie 1 deg = 111.320*cos(latitude) km\n",
    "np.cos(52 * np.pi / 180) * 111.320"
   ]
  },
  {
   "cell_type": "code",
   "execution_count": null,
   "metadata": {},
   "outputs": [],
   "source": []
  }
 ],
 "metadata": {
  "kernelspec": {
   "display_name": "Python 3",
   "language": "python",
   "name": "python3"
  },
  "language_info": {
   "codemirror_mode": {
    "name": "ipython",
    "version": 3
   },
   "file_extension": ".py",
   "mimetype": "text/x-python",
   "name": "python",
   "nbconvert_exporter": "python",
   "pygments_lexer": "ipython3",
   "version": "3.7.5"
  }
 },
 "nbformat": 4,
 "nbformat_minor": 4
}
